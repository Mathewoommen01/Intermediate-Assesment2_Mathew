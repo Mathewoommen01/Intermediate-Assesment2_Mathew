{
 "cells": [
  {
   "cell_type": "code",
   "execution_count": 1,
   "id": "d1d6ee6c",
   "metadata": {},
   "outputs": [],
   "source": [
    "import pandas as pd\n",
    "import numpy as np\n",
    "import matplotlib.pyplot as plt"
   ]
  },
  {
   "cell_type": "code",
   "execution_count": 2,
   "id": "d0b1e430",
   "metadata": {},
   "outputs": [],
   "source": [
    "test_df = pd.read_csv(r\"C:\\Users\\hp\\Downloads\\test_2umaH9m.csv\")\n",
    "train_df = pd.read_csv(r\"C:\\Users\\hp\\Downloads\\train_LZdllcl.csv\")\n",
    "submission_df = pd.read_csv(r\"C:\\Users\\hp\\Downloads\\sample_submission_M0L0uXE.csv\")"
   ]
  },
  {
   "cell_type": "code",
   "execution_count": 3,
   "id": "8fe8a26b",
   "metadata": {},
   "outputs": [
    {
     "name": "stdout",
     "output_type": "stream",
     "text": [
      "<class 'pandas.core.frame.DataFrame'>\n",
      "RangeIndex: 54808 entries, 0 to 54807\n",
      "Data columns (total 14 columns):\n",
      " #   Column                Non-Null Count  Dtype  \n",
      "---  ------                --------------  -----  \n",
      " 0   employee_id           54808 non-null  int64  \n",
      " 1   department            54808 non-null  object \n",
      " 2   region                54808 non-null  object \n",
      " 3   education             52400 non-null  object \n",
      " 4   gender                54808 non-null  object \n",
      " 5   recruitment_channel   54808 non-null  object \n",
      " 6   no_of_trainings       54808 non-null  int64  \n",
      " 7   age                   54808 non-null  int64  \n",
      " 8   previous_year_rating  50684 non-null  float64\n",
      " 9   length_of_service     54808 non-null  int64  \n",
      " 10  KPIs_met >80%         54808 non-null  int64  \n",
      " 11  awards_won?           54808 non-null  int64  \n",
      " 12  avg_training_score    54808 non-null  int64  \n",
      " 13  is_promoted           54808 non-null  int64  \n",
      "dtypes: float64(1), int64(8), object(5)\n",
      "memory usage: 5.9+ MB\n",
      "<class 'pandas.core.frame.DataFrame'>\n",
      "RangeIndex: 23490 entries, 0 to 23489\n",
      "Data columns (total 13 columns):\n",
      " #   Column                Non-Null Count  Dtype  \n",
      "---  ------                --------------  -----  \n",
      " 0   employee_id           23490 non-null  int64  \n",
      " 1   department            23490 non-null  object \n",
      " 2   region                23490 non-null  object \n",
      " 3   education             22456 non-null  object \n",
      " 4   gender                23490 non-null  object \n",
      " 5   recruitment_channel   23490 non-null  object \n",
      " 6   no_of_trainings       23490 non-null  int64  \n",
      " 7   age                   23490 non-null  int64  \n",
      " 8   previous_year_rating  21678 non-null  float64\n",
      " 9   length_of_service     23490 non-null  int64  \n",
      " 10  KPIs_met >80%         23490 non-null  int64  \n",
      " 11  awards_won?           23490 non-null  int64  \n",
      " 12  avg_training_score    23490 non-null  int64  \n",
      "dtypes: float64(1), int64(7), object(5)\n",
      "memory usage: 2.3+ MB\n"
     ]
    },
    {
     "data": {
      "text/plain": [
       "((None,\n",
       "          employee_id  no_of_trainings           age  previous_year_rating  \\\n",
       "  count  54808.000000     54808.000000  54808.000000          50684.000000   \n",
       "  mean   39195.830627         1.253011     34.803915              3.329256   \n",
       "  std    22586.581449         0.609264      7.660169              1.259993   \n",
       "  min        1.000000         1.000000     20.000000              1.000000   \n",
       "  25%    19669.750000         1.000000     29.000000              3.000000   \n",
       "  50%    39225.500000         1.000000     33.000000              3.000000   \n",
       "  75%    58730.500000         1.000000     39.000000              4.000000   \n",
       "  max    78298.000000        10.000000     60.000000              5.000000   \n",
       "  \n",
       "         length_of_service  KPIs_met >80%   awards_won?  avg_training_score  \\\n",
       "  count       54808.000000   54808.000000  54808.000000        54808.000000   \n",
       "  mean            5.865512       0.351974      0.023172           63.386750   \n",
       "  std             4.265094       0.477590      0.150450           13.371559   \n",
       "  min             1.000000       0.000000      0.000000           39.000000   \n",
       "  25%             3.000000       0.000000      0.000000           51.000000   \n",
       "  50%             5.000000       0.000000      0.000000           60.000000   \n",
       "  75%             7.000000       1.000000      0.000000           76.000000   \n",
       "  max            37.000000       1.000000      1.000000           99.000000   \n",
       "  \n",
       "          is_promoted  \n",
       "  count  54808.000000  \n",
       "  mean       0.085170  \n",
       "  std        0.279137  \n",
       "  min        0.000000  \n",
       "  25%        0.000000  \n",
       "  50%        0.000000  \n",
       "  75%        0.000000  \n",
       "  max        1.000000  ,\n",
       "     employee_id         department     region         education gender  \\\n",
       "  0        65438  Sales & Marketing   region_7  Master's & above      f   \n",
       "  1        65141         Operations  region_22        Bachelor's      m   \n",
       "  2         7513  Sales & Marketing  region_19        Bachelor's      m   \n",
       "  3         2542  Sales & Marketing  region_23        Bachelor's      m   \n",
       "  4        48945         Technology  region_26        Bachelor's      m   \n",
       "  \n",
       "    recruitment_channel  no_of_trainings  age  previous_year_rating  \\\n",
       "  0            sourcing                1   35                   5.0   \n",
       "  1               other                1   30                   5.0   \n",
       "  2            sourcing                1   34                   3.0   \n",
       "  3               other                2   39                   1.0   \n",
       "  4               other                1   45                   3.0   \n",
       "  \n",
       "     length_of_service  KPIs_met >80%  awards_won?  avg_training_score  \\\n",
       "  0                  8              1            0                  49   \n",
       "  1                  4              0            0                  60   \n",
       "  2                  7              0            0                  50   \n",
       "  3                 10              0            0                  50   \n",
       "  4                  2              0            0                  73   \n",
       "  \n",
       "     is_promoted  \n",
       "  0            0  \n",
       "  1            0  \n",
       "  2            0  \n",
       "  3            0  \n",
       "  4            0  ),\n",
       " (None,\n",
       "          employee_id  no_of_trainings           age  previous_year_rating  \\\n",
       "  count  23490.000000     23490.000000  23490.000000          21678.000000   \n",
       "  mean   39041.399149         1.254236     34.782929              3.339146   \n",
       "  std    22640.809201         0.600910      7.679492              1.263294   \n",
       "  min        3.000000         1.000000     20.000000              1.000000   \n",
       "  25%    19370.250000         1.000000     29.000000              3.000000   \n",
       "  50%    38963.500000         1.000000     33.000000              3.000000   \n",
       "  75%    58690.000000         1.000000     39.000000              4.000000   \n",
       "  max    78295.000000         9.000000     60.000000              5.000000   \n",
       "  \n",
       "         length_of_service  KPIs_met >80%   awards_won?  avg_training_score  \n",
       "  count       23490.000000   23490.000000  23490.000000        23490.000000  \n",
       "  mean            5.810387       0.358834      0.022776           63.263133  \n",
       "  std             4.207917       0.479668      0.149191           13.411750  \n",
       "  min             1.000000       0.000000      0.000000           39.000000  \n",
       "  25%             3.000000       0.000000      0.000000           51.000000  \n",
       "  50%             5.000000       0.000000      0.000000           60.000000  \n",
       "  75%             7.000000       1.000000      0.000000           76.000000  \n",
       "  max            34.000000       1.000000      1.000000           99.000000  ,\n",
       "     employee_id         department     region   education gender  \\\n",
       "  0         8724         Technology  region_26  Bachelor's      m   \n",
       "  1        74430                 HR   region_4  Bachelor's      f   \n",
       "  2        72255  Sales & Marketing  region_13  Bachelor's      m   \n",
       "  3        38562        Procurement   region_2  Bachelor's      f   \n",
       "  4        64486            Finance  region_29  Bachelor's      m   \n",
       "  \n",
       "    recruitment_channel  no_of_trainings  age  previous_year_rating  \\\n",
       "  0            sourcing                1   24                   NaN   \n",
       "  1               other                1   31                   3.0   \n",
       "  2               other                1   31                   1.0   \n",
       "  3               other                3   31                   2.0   \n",
       "  4            sourcing                1   30                   4.0   \n",
       "  \n",
       "     length_of_service  KPIs_met >80%  awards_won?  avg_training_score  \n",
       "  0                  1              1            0                  77  \n",
       "  1                  5              0            0                  51  \n",
       "  2                  4              0            0                  47  \n",
       "  3                  9              0            0                  65  \n",
       "  4                  7              0            0                  61  ))"
      ]
     },
     "execution_count": 3,
     "metadata": {},
     "output_type": "execute_result"
    }
   ],
   "source": [
    "# Display initial information on train and test datasets\n",
    "train_info = train_df.info(), train_df.describe(), train_df.head()\n",
    "test_info = test_df.info(), test_df.describe(), test_df.head()\n",
    "\n",
    "train_info, test_info"
   ]
  },
  {
   "cell_type": "code",
   "execution_count": 4,
   "id": "239c7176",
   "metadata": {},
   "outputs": [
    {
     "name": "stderr",
     "output_type": "stream",
     "text": [
      "C:\\Users\\hp\\anaconda3\\lib\\site-packages\\scipy\\__init__.py:146: UserWarning: A NumPy version >=1.16.5 and <1.23.0 is required for this version of SciPy (detected version 1.26.2\n",
      "  warnings.warn(f\"A NumPy version >={np_minversion} and <{np_maxversion}\"\n"
     ]
    }
   ],
   "source": [
    "from sklearn.impute import SimpleImputer\n",
    "from sklearn.preprocessing import StandardScaler, LabelEncoder\n",
    "from sklearn.model_selection import train_test_split\n",
    "import numpy as np"
   ]
  },
  {
   "cell_type": "code",
   "execution_count": 5,
   "id": "fff49d0a",
   "metadata": {},
   "outputs": [],
   "source": [
    "# Separate features and target in training data\n",
    "X_train = train_df.drop(['employee_id', 'is_promoted'], axis=1)\n",
    "y_train = train_df['is_promoted']"
   ]
  },
  {
   "cell_type": "code",
   "execution_count": 6,
   "id": "60d2d1e5",
   "metadata": {},
   "outputs": [],
   "source": [
    "# Drop 'employee_id' column in test data as well\n",
    "X_test = test_df.drop(['employee_id'], axis=1)"
   ]
  },
  {
   "cell_type": "code",
   "execution_count": 7,
   "id": "ecd94176",
   "metadata": {},
   "outputs": [],
   "source": [
    "# Define preprocessing functions\n",
    "def preprocess_data(df, is_train=True):\n",
    "    # Handling missing values\n",
    "    imputer_mode = SimpleImputer(strategy='most_frequent')\n",
    "    imputer_mean = SimpleImputer(strategy='mean')\n",
    "    \n",
    "    # Fill categorical 'education' and numeric 'previous_year_rating'\n",
    "    df['education'] = imputer_mode.fit_transform(df[['education']])\n",
    "    df['previous_year_rating'] = imputer_mean.fit_transform(df[['previous_year_rating']])\n",
    "    \n",
    "    # Encoding categorical variables\n",
    "    for col in ['department', 'region', 'education', 'gender', 'recruitment_channel']:\n",
    "        df[col] = LabelEncoder().fit_transform(df[col])\n",
    "        \n",
    "    return df"
   ]
  },
  {
   "cell_type": "code",
   "execution_count": 8,
   "id": "74c5ae33",
   "metadata": {},
   "outputs": [
    {
     "data": {
      "text/plain": [
       "(   department  region  education  gender  recruitment_channel  \\\n",
       " 0           7      31          2       0                    2   \n",
       " 1           4      14          0       1                    0   \n",
       " 2           7      10          0       1                    2   \n",
       " 3           7      15          0       1                    0   \n",
       " 4           8      18          0       1                    0   \n",
       " \n",
       "    no_of_trainings       age  previous_year_rating  length_of_service  \\\n",
       " 0        -0.415276  0.025598              1.378900           0.500460   \n",
       " 1        -0.415276 -0.627135              1.378900          -0.437395   \n",
       " 2        -0.415276 -0.104948             -0.271742           0.265996   \n",
       " 3         1.226063  0.547785             -1.922383           0.969387   \n",
       " 4        -0.415276  1.331064             -0.271742          -0.906322   \n",
       " \n",
       "    KPIs_met >80%  awards_won?  avg_training_score  \n",
       " 0              1            0           -1.075931  \n",
       " 1              0            0           -0.253282  \n",
       " 2              0            0           -1.001145  \n",
       " 3              0            0           -1.001145  \n",
       " 4              0            0            0.718939  ,\n",
       "    department  region  education  gender  recruitment_channel  \\\n",
       " 0           8      18          0       1                    2   \n",
       " 1           2      28          0       0                    0   \n",
       " 2           7       4          0       1                    0   \n",
       " 3           5      11          0       0                    0   \n",
       " 4           1      21          0       1                    2   \n",
       " \n",
       "    no_of_trainings       age  previous_year_rating  length_of_service  \\\n",
       " 0        -0.415276 -1.410415              0.008162          -1.140785   \n",
       " 1        -0.415276 -0.496588             -0.271742          -0.202931   \n",
       " 2        -0.415276 -0.496588             -1.922383          -0.437395   \n",
       " 3         2.867403 -0.496588             -1.097063           0.734923   \n",
       " 4        -0.415276 -0.627135              0.553579           0.265996   \n",
       " \n",
       "    KPIs_met >80%  awards_won?  avg_training_score  \n",
       " 0              1            0            1.018084  \n",
       " 1              0            0           -0.926359  \n",
       " 2              0            0           -1.225504  \n",
       " 3              0            0            0.120649  \n",
       " 4              0            0           -0.178496  )"
      ]
     },
     "execution_count": 8,
     "metadata": {},
     "output_type": "execute_result"
    }
   ],
   "source": [
    "# Apply preprocessing to train and test datasets\n",
    "X_train_processed = preprocess_data(X_train)\n",
    "X_test_processed = preprocess_data(X_test, is_train=False)\n",
    "\n",
    "# Scale numeric features\n",
    "scaler = StandardScaler()\n",
    "numeric_cols = ['age', 'length_of_service', 'avg_training_score', 'no_of_trainings', 'previous_year_rating']\n",
    "X_train_processed[numeric_cols] = scaler.fit_transform(X_train_processed[numeric_cols])\n",
    "X_test_processed[numeric_cols] = scaler.transform(X_test_processed[numeric_cols])\n",
    "\n",
    "# Show processed data head for verification\n",
    "X_train_processed.head(), X_test_processed.head()"
   ]
  },
  {
   "cell_type": "code",
   "execution_count": 9,
   "id": "b830709b",
   "metadata": {},
   "outputs": [],
   "source": [
    "# Split the training data for validation\n",
    "X_train_split, X_val, y_train_split, y_val = train_test_split(X_train_processed, y_train, test_size=0.2, random_state=42)"
   ]
  },
  {
   "cell_type": "code",
   "execution_count": 10,
   "id": "c9fdee05",
   "metadata": {},
   "outputs": [
    {
     "data": {
      "text/plain": [
       "RandomForestClassifier(random_state=42)"
      ]
     },
     "execution_count": 10,
     "metadata": {},
     "output_type": "execute_result"
    }
   ],
   "source": [
    "from sklearn.ensemble import RandomForestClassifier\n",
    "from sklearn.metrics import accuracy_score, f1_score\n",
    "\n",
    "# Define and train a Random Forest Classifier model\n",
    "rf_model = RandomForestClassifier(random_state=42)\n",
    "rf_model.fit(X_train_split, y_train_split)"
   ]
  },
  {
   "cell_type": "code",
   "execution_count": 11,
   "id": "077a08cc",
   "metadata": {},
   "outputs": [
    {
     "name": "stdout",
     "output_type": "stream",
     "text": [
      "Decision Tree Validation Accuracy: 0.9358693669038497\n",
      "Decision Tree Validation F1 Score: 0.42235004108463436\n"
     ]
    }
   ],
   "source": [
    "# Predict on validation set and evaluate\n",
    "y_val_pred_rf = rf_model.predict(X_val)\n",
    "rf_accuracy = accuracy_score(y_val, y_val_pred_rf)\n",
    "rf_f1 = f1_score(y_val, y_val_pred_rf)\n",
    "\n",
    "print(\"Decision Tree Validation Accuracy:\", rf_accuracy)\n",
    "print(\"Decision Tree Validation F1 Score:\", rf_f1)"
   ]
  },
  {
   "cell_type": "code",
   "execution_count": 12,
   "id": "2dc38117",
   "metadata": {},
   "outputs": [
    {
     "name": "stdout",
     "output_type": "stream",
     "text": [
      "Decision Tree Validation Accuracy: 0.8968253968253969\n",
      "Decision Tree Validation F1 Score: 0.4214833759590792\n"
     ]
    }
   ],
   "source": [
    "from sklearn.tree import DecisionTreeClassifier\n",
    "\n",
    "dt_model = DecisionTreeClassifier(random_state=42)\n",
    "dt_model.fit(X_train_split, y_train_split)\n",
    "\n",
    "# Predict on validation set and evaluate\n",
    "y_val_pred_dt = dt_model.predict(X_val)\n",
    "dt_accuracy = accuracy_score(y_val, y_val_pred_dt)\n",
    "dt_f1 = f1_score(y_val, y_val_pred_dt)\n",
    "\n",
    "print(\"Decision Tree Validation Accuracy:\", dt_accuracy)\n",
    "print(\"Decision Tree Validation F1 Score:\", dt_f1)"
   ]
  },
  {
   "cell_type": "code",
   "execution_count": 13,
   "id": "ca6c1418",
   "metadata": {},
   "outputs": [
    {
     "name": "stdout",
     "output_type": "stream",
     "text": [
      "KNN Validation Accuracy: 0.9175332968436417\n",
      "KNN Validation F1 Score: 0.13904761904761903\n"
     ]
    }
   ],
   "source": [
    "from sklearn.neighbors import KNeighborsClassifier\n",
    "\n",
    "knn_model = KNeighborsClassifier(n_neighbors=5)  # Start with n_neighbors=5 as a baseline\n",
    "knn_model.fit(X_train_split, y_train_split)\n",
    "\n",
    "# Predict on validation set and evaluate\n",
    "y_val_pred_knn = knn_model.predict(X_val)\n",
    "knn_accuracy = accuracy_score(y_val, y_val_pred_knn)\n",
    "knn_f1 = f1_score(y_val, y_val_pred_knn)\n",
    "\n",
    "print(\"KNN Validation Accuracy:\", knn_accuracy)\n",
    "print(\"KNN Validation F1 Score:\", knn_f1)\n"
   ]
  },
  {
   "cell_type": "markdown",
   "id": "703d8ab0",
   "metadata": {},
   "source": [
    "#### Random Forest gives more accuracy than other 2"
   ]
  },
  {
   "cell_type": "code",
   "execution_count": 14,
   "id": "974c77eb",
   "metadata": {},
   "outputs": [
    {
     "name": "stdout",
     "output_type": "stream",
     "text": [
      "Fitting 3 folds for each of 108 candidates, totalling 324 fits\n"
     ]
    },
    {
     "data": {
      "text/plain": [
       "GridSearchCV(cv=3, estimator=RandomForestClassifier(random_state=42), n_jobs=-1,\n",
       "             param_grid={'class_weight': ['balanced', None],\n",
       "                         'max_depth': [10, 20, None],\n",
       "                         'min_samples_leaf': [1, 2, 4],\n",
       "                         'min_samples_split': [2, 5, 10],\n",
       "                         'n_estimators': [100, 200]},\n",
       "             scoring='f1', verbose=1)"
      ]
     },
     "execution_count": 14,
     "metadata": {},
     "output_type": "execute_result"
    }
   ],
   "source": [
    "from sklearn.model_selection import GridSearchCV\n",
    "\n",
    "# Define the parameter grid for hyperparameter tuning\n",
    "param_grid = {\n",
    "    'n_estimators': [100, 200],\n",
    "    'max_depth': [10, 20, None],\n",
    "    'min_samples_split': [2, 5, 10],\n",
    "    'min_samples_leaf': [1, 2, 4],\n",
    "    'class_weight': ['balanced', None]\n",
    "}\n",
    "\n",
    "# Initialize the GridSearchCV with F1 scoring to address imbalance\n",
    "grid_search = GridSearchCV(estimator=rf_model, param_grid=param_grid, scoring='f1', cv=3, n_jobs=-1, verbose=1)\n",
    "grid_search.fit(X_train_split, y_train_split)"
   ]
  },
  {
   "cell_type": "code",
   "execution_count": 15,
   "id": "bd9e0279",
   "metadata": {},
   "outputs": [
    {
     "name": "stdout",
     "output_type": "stream",
     "text": [
      "Best Parameters: {'class_weight': 'balanced', 'max_depth': None, 'min_samples_leaf': 1, 'min_samples_split': 10, 'n_estimators': 200}\n"
     ]
    }
   ],
   "source": [
    "# Retrieve best model\n",
    "best_rf_model = grid_search.best_estimator_\n",
    "print(\"Best Parameters:\", grid_search.best_params_)"
   ]
  },
  {
   "cell_type": "code",
   "execution_count": 16,
   "id": "c543cde4",
   "metadata": {},
   "outputs": [
    {
     "name": "stdout",
     "output_type": "stream",
     "text": [
      "Best Validation Accuracy: 0.9190841087392811\n",
      "Best Validation F1 Score: 0.4554941682013505\n"
     ]
    }
   ],
   "source": [
    "# Evaluate best model on validation set\n",
    "y_val_pred_best = best_rf_model.predict(X_val)\n",
    "best_accuracy = accuracy_score(y_val, y_val_pred_best)\n",
    "best_f1 = f1_score(y_val, y_val_pred_best)\n",
    "print(\"Best Validation Accuracy:\", best_accuracy)\n",
    "print(\"Best Validation F1 Score:\", best_f1)"
   ]
  },
  {
   "cell_type": "code",
   "execution_count": 17,
   "id": "712f6894",
   "metadata": {},
   "outputs": [],
   "source": [
    "# Predict on the test dataset\n",
    "y_test_pred = best_rf_model.predict(X_test_processed)\n",
    "\n",
    "# Load the sample submission file and replace the target column with predictions\n",
    "submission_df['is_promoted'] = y_test_pred"
   ]
  },
  {
   "cell_type": "code",
   "execution_count": 20,
   "id": "e92beac9",
   "metadata": {},
   "outputs": [
    {
     "name": "stdout",
     "output_type": "stream",
     "text": [
      "Predictions saved to submission_predictions.csv\n"
     ]
    }
   ],
   "source": [
    "# Save the predictions to a new CSV file\n",
    "submission_df.to_csv(\"C:/Users/hp/Downloads/submission_predictions.csv\", index=False)\n",
    "print(\"Predictions saved to submission_predictions.csv\")"
   ]
  },
  {
   "cell_type": "code",
   "execution_count": null,
   "id": "daabb1c8",
   "metadata": {},
   "outputs": [],
   "source": []
  }
 ],
 "metadata": {
  "kernelspec": {
   "display_name": "Python 3 (ipykernel)",
   "language": "python",
   "name": "python3"
  },
  "language_info": {
   "codemirror_mode": {
    "name": "ipython",
    "version": 3
   },
   "file_extension": ".py",
   "mimetype": "text/x-python",
   "name": "python",
   "nbconvert_exporter": "python",
   "pygments_lexer": "ipython3",
   "version": "3.9.12"
  }
 },
 "nbformat": 4,
 "nbformat_minor": 5
}
